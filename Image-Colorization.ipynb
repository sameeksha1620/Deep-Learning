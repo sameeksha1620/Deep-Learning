{
 "cells": [
  {
   "cell_type": "code",
   "execution_count": 4,
   "metadata": {
    "_cell_guid": "b1076dfc-b9ad-4769-8c92-a6c4dae69d19",
    "_uuid": "8f2839f25d086af736a60e9eeb907d3b93b6e0e5",
    "execution": {
     "iopub.execute_input": "2022-07-22T15:05:20.165226Z",
     "iopub.status.busy": "2022-07-22T15:05:20.164585Z",
     "iopub.status.idle": "2022-07-22T15:05:20.174429Z",
     "shell.execute_reply": "2022-07-22T15:05:20.173250Z",
     "shell.execute_reply.started": "2022-07-22T15:05:20.165186Z"
    }
   },
   "outputs": [],
   "source": [
    "# This Python 3 environment comes with many helpful analytics libraries installed\n",
    "# It is defined by the kaggle/python Docker image: https://github.com/kaggle/docker-python\n",
    "# For example, here's several helpful packages to load\n",
    "\n",
    "import numpy as np # linear algebra\n",
    "import pandas as pd # data processing, CSV file I/O (e.g. pd.read_csv)\n",
    "\n",
    "# Input data files are available in the read-only \"../input/\" directory\n",
    "# For example, running this (by clicking run or pressing Shift+Enter) will list all files under the input directory\n",
    "\n",
    "import os\n",
    "for dirname, _, filenames in os.walk('/kaggle/input'):\n",
    "    for filename in filenames:\n",
    "        print(os.path.join(dirname, filename))\n",
    "\n",
    "# You can write up to 20GB to the current directory (/kaggle/working/) that gets preserved as output when you create a version using \"Save & Run All\" \n",
    "# You can also write temporary files to /kaggle/temp/, but they won't be saved outside of the current session"
   ]
  },
  {
   "cell_type": "code",
   "execution_count": 5,
   "metadata": {
    "execution": {
     "iopub.execute_input": "2022-07-22T15:05:20.177386Z",
     "iopub.status.busy": "2022-07-22T15:05:20.176420Z",
     "iopub.status.idle": "2022-07-22T15:05:20.185866Z",
     "shell.execute_reply": "2022-07-22T15:05:20.184594Z",
     "shell.execute_reply.started": "2022-07-22T15:05:20.177355Z"
    }
   },
   "outputs": [],
   "source": [
    "import matplotlib.pyplot as plt\n",
    "import numpy as np\n",
    "import cv2"
   ]
  },
  {
   "cell_type": "code",
   "execution_count": 6,
   "metadata": {
    "execution": {
     "iopub.execute_input": "2022-07-22T15:05:20.190358Z",
     "iopub.status.busy": "2022-07-22T15:05:20.189892Z",
     "iopub.status.idle": "2022-07-22T15:05:20.567265Z",
     "shell.execute_reply": "2022-07-22T15:05:20.566154Z",
     "shell.execute_reply.started": "2022-07-22T15:05:20.190318Z"
    }
   },
   "outputs": [],
   "source": [
    "ab1 = np.load('/kaggle/input/image-colorization/ab/ab/ab1.npy')[:1000,:,:,:]\n",
    "# ab2 = np.load('/kaggle/input/image-colorization/ab/ab/ab2.npy')\n",
    "# ab3 = np.load('/kaggle/input/image-colorization/ab/ab/ab3.npy')"
   ]
  },
  {
   "cell_type": "code",
   "execution_count": 7,
   "metadata": {
    "execution": {
     "iopub.execute_input": "2022-07-22T15:05:20.569220Z",
     "iopub.status.busy": "2022-07-22T15:05:20.568795Z",
     "iopub.status.idle": "2022-07-22T15:05:29.986329Z",
     "shell.execute_reply": "2022-07-22T15:05:29.985261Z",
     "shell.execute_reply.started": "2022-07-22T15:05:20.569180Z"
    }
   },
   "outputs": [],
   "source": [
    "gray_scale = np.load('/kaggle/input/image-colorization/l/gray_scale.npy')[:len(ab1), :, :]\n",
    "# gray_scale = (np.array(gray_scale[:len(ab1), :, :]))"
   ]
  },
  {
   "cell_type": "code",
   "execution_count": 8,
   "metadata": {
    "execution": {
     "iopub.execute_input": "2022-07-22T15:05:34.254414Z",
     "iopub.status.busy": "2022-07-22T15:05:34.253499Z",
     "iopub.status.idle": "2022-07-22T15:05:34.259924Z",
     "shell.execute_reply": "2022-07-22T15:05:34.258611Z",
     "shell.execute_reply.started": "2022-07-22T15:05:34.254371Z"
    }
   },
   "outputs": [],
   "source": [
    "print(gray_scale.shape)\n",
    "print(ab1.shape)\n",
    "# print(ab2.shape)\n",
    "# print(ab3.shape)"
   ]
  },
  {
   "cell_type": "code",
   "execution_count": 9,
   "metadata": {
    "execution": {
     "iopub.execute_input": "2022-07-22T15:05:35.331420Z",
     "iopub.status.busy": "2022-07-22T15:05:35.330671Z",
     "iopub.status.idle": "2022-07-22T15:05:36.716871Z",
     "shell.execute_reply": "2022-07-22T15:05:36.715869Z",
     "shell.execute_reply.started": "2022-07-22T15:05:35.331376Z"
    }
   },
   "outputs": [],
   "source": [
    "rgb_data = []\n",
    "for i in range(0,len(ab1)):\n",
    "    a = cv2.merge((gray_scale[i],ab1[i,:,:,0],ab1[i,:,:,1]))\n",
    "    c = (cv2.cvtColor(a, cv2.COLOR_LAB2RGB))\n",
    "    rgb_data.append(c.T.astype('float'))\n",
    "# lab1 = len(ab1)\n",
    "# for i in range(0, len(ab2)):\n",
    "#     a = cv2.merge((gray_scale[i + lab1],ab2[i,:,:,0],ab2[i,:,:,1]))\n",
    "#     c = cv2.cvtColor(a, cv2.COLOR_LAB2RGB)\n",
    "#     rgb_data.append(c.T)\n",
    "# lab12 = len(ab1)+len(ab2)\n",
    "# for i in range(0, len(ab3)):\n",
    "#     a = cv2.merge((gray_scale[i + lab12],ab3[i,:,:,0],ab3[i,:,:,1]))\n",
    "#     c = cv2.cvtColor(a, cv2.COLOR_LAB2RGB)\n",
    "#     rgb_data.append(c.T)\n",
    "del(ab1)"
   ]
  },
  {
   "cell_type": "code",
   "execution_count": 10,
   "metadata": {
    "execution": {
     "iopub.execute_input": "2022-07-22T15:05:50.755315Z",
     "iopub.status.busy": "2022-07-22T15:05:50.754785Z",
     "iopub.status.idle": "2022-07-22T15:05:52.050015Z",
     "shell.execute_reply": "2022-07-22T15:05:52.048942Z",
     "shell.execute_reply.started": "2022-07-22T15:05:50.755274Z"
    }
   },
   "outputs": [],
   "source": [
    "rgb_data = (np.array(rgb_data)-128)/255\n",
    "gray_scale = gray_scale.astype('float')\n",
    "gray_scale = (np.array(gray_scale[:len(rgb_data), :, :])- 128)/255"
   ]
  },
  {
   "cell_type": "code",
   "execution_count": 11,
   "metadata": {
    "execution": {
     "iopub.execute_input": "2022-07-22T15:05:53.365640Z",
     "iopub.status.busy": "2022-07-22T15:05:53.364930Z",
     "iopub.status.idle": "2022-07-22T15:05:55.769720Z",
     "shell.execute_reply": "2022-07-22T15:05:55.768661Z",
     "shell.execute_reply.started": "2022-07-22T15:05:53.365604Z"
    }
   },
   "outputs": [],
   "source": [
    "from skimage.color import lab2rgb, rgb2lab, rgb2gray\n",
    "from skimage import io\n",
    "import torch\n",
    "import torch.nn as nn\n",
    "import torch.nn.functional as F\n",
    "import torchvision.models as models\n",
    "from torchvision import datasets, transforms\n",
    "import os, shutil, time"
   ]
  },
  {
   "cell_type": "code",
   "execution_count": 12,
   "metadata": {
    "execution": {
     "iopub.execute_input": "2022-07-22T15:05:55.773654Z",
     "iopub.status.busy": "2022-07-22T15:05:55.772748Z",
     "iopub.status.idle": "2022-07-22T15:05:55.846951Z",
     "shell.execute_reply": "2022-07-22T15:05:55.845800Z",
     "shell.execute_reply.started": "2022-07-22T15:05:55.773611Z"
    }
   },
   "outputs": [],
   "source": [
    "use_gpu = torch.cuda.is_available()\n",
    "print(use_gpu)"
   ]
  },
  {
   "cell_type": "code",
   "execution_count": 13,
   "metadata": {
    "execution": {
     "iopub.execute_input": "2022-07-22T15:06:05.923631Z",
     "iopub.status.busy": "2022-07-22T15:06:05.923227Z",
     "iopub.status.idle": "2022-07-22T15:06:05.935220Z",
     "shell.execute_reply": "2022-07-22T15:06:05.934135Z",
     "shell.execute_reply.started": "2022-07-22T15:06:05.923596Z"
    }
   },
   "outputs": [],
   "source": [
    "class ColorizationNet(nn.Module):\n",
    "  def __init__(self, input_size=224):\n",
    "    super(ColorizationNet, self).__init__()\n",
    "    MIDLEVEL_FEATURE_SIZE = 128\n",
    "\n",
    "    ## First half: ResNet\n",
    "    resnet = models.resnet18(num_classes=365) \n",
    "    # Change first conv layer to accept single-channel (grayscale) input\n",
    "    resnet.conv1.weight = nn.Parameter(resnet.conv1.weight.sum(dim=1).unsqueeze(1)) \n",
    "    # Extract midlevel features from ResNet-gray\n",
    "    self.midlevel_resnet = nn.Sequential(*list(resnet.children())[0:6])\n",
    "\n",
    "    ## Second half: Upsampling\n",
    "    self.upsample = nn.Sequential(     \n",
    "      nn.Conv2d(MIDLEVEL_FEATURE_SIZE, 128, kernel_size=3, stride=1, padding=1),\n",
    "      nn.BatchNorm2d(128),\n",
    "      nn.ReLU(),\n",
    "      nn.Upsample(scale_factor=2),\n",
    "      nn.Conv2d(128, 64, kernel_size=3, stride=1, padding=1),\n",
    "      nn.BatchNorm2d(64),\n",
    "      nn.ReLU(),\n",
    "      nn.Conv2d(64, 64, kernel_size=3, stride=1, padding=1),\n",
    "      nn.BatchNorm2d(64),\n",
    "      nn.ReLU(),\n",
    "      nn.Upsample(scale_factor=2),\n",
    "      nn.Conv2d(64, 32, kernel_size=3, stride=1, padding=1),\n",
    "      nn.BatchNorm2d(32),\n",
    "      nn.ReLU(),\n",
    "      nn.Conv2d(32, 3, kernel_size=3, stride=1, padding=1),\n",
    "      nn.Upsample(scale_factor=2)\n",
    "    )\n",
    "\n",
    "  def forward(self, input):\n",
    "\n",
    "    # Pass input through ResNet-gray to extract features\n",
    "    midlevel_features = self.midlevel_resnet(input)\n",
    "\n",
    "    # Upsample to get colors\n",
    "    output = self.upsample(midlevel_features)\n",
    "    return output"
   ]
  },
  {
   "cell_type": "code",
   "execution_count": 14,
   "metadata": {
    "execution": {
     "iopub.execute_input": "2022-07-22T15:06:12.482681Z",
     "iopub.status.busy": "2022-07-22T15:06:12.482305Z",
     "iopub.status.idle": "2022-07-22T15:06:12.693343Z",
     "shell.execute_reply": "2022-07-22T15:06:12.692016Z",
     "shell.execute_reply.started": "2022-07-22T15:06:12.482649Z"
    }
   },
   "outputs": [],
   "source": [
    "model = ColorizationNet()\n",
    "\n"
   ]
  },
  {
   "cell_type": "code",
   "execution_count": 15,
   "metadata": {
    "execution": {
     "iopub.execute_input": "2022-07-22T15:06:13.385747Z",
     "iopub.status.busy": "2022-07-22T15:06:13.384989Z",
     "iopub.status.idle": "2022-07-22T15:06:13.390689Z",
     "shell.execute_reply": "2022-07-22T15:06:13.389480Z",
     "shell.execute_reply.started": "2022-07-22T15:06:13.385709Z"
    }
   },
   "outputs": [],
   "source": [
    "criterion = nn.MSELoss()"
   ]
  },
  {
   "cell_type": "code",
   "execution_count": 16,
   "metadata": {
    "execution": {
     "iopub.execute_input": "2022-07-22T15:06:14.271766Z",
     "iopub.status.busy": "2022-07-22T15:06:14.270813Z",
     "iopub.status.idle": "2022-07-22T15:06:17.014401Z",
     "shell.execute_reply": "2022-07-22T15:06:17.013310Z",
     "shell.execute_reply.started": "2022-07-22T15:06:14.271730Z"
    }
   },
   "outputs": [],
   "source": [
    "if use_gpu:\n",
    "    criterion = criterion.cuda()\n",
    "    model = model.cuda()\n",
    "    "
   ]
  },
  {
   "cell_type": "code",
   "execution_count": 17,
   "metadata": {
    "execution": {
     "iopub.execute_input": "2022-07-22T15:06:17.017374Z",
     "iopub.status.busy": "2022-07-22T15:06:17.016637Z",
     "iopub.status.idle": "2022-07-22T15:06:17.023233Z",
     "shell.execute_reply": "2022-07-22T15:06:17.022270Z",
     "shell.execute_reply.started": "2022-07-22T15:06:17.017326Z"
    }
   },
   "outputs": [],
   "source": [
    "optimizer = torch.optim.Adam(model.parameters(), lr=1e-2, weight_decay=0.0)"
   ]
  },
  {
   "cell_type": "code",
   "execution_count": 18,
   "metadata": {
    "execution": {
     "iopub.execute_input": "2022-07-22T15:06:17.540423Z",
     "iopub.status.busy": "2022-07-22T15:06:17.539355Z",
     "iopub.status.idle": "2022-07-22T15:06:18.338107Z",
     "shell.execute_reply": "2022-07-22T15:06:18.337045Z",
     "shell.execute_reply.started": "2022-07-22T15:06:17.540374Z"
    }
   },
   "outputs": [],
   "source": [
    "device = torch.device(\"cuda:0\" if torch.cuda.is_available() else \"cpu\")\n",
    "\n",
    "gray_scale = np.reshape(gray_scale, (len(gray_scale), 1, 224,224))\n",
    "input_img = torch.from_numpy(gray_scale).float().to(device)\n",
    "target = torch.from_numpy(rgb_data).float().to(device)"
   ]
  },
  {
   "cell_type": "code",
   "execution_count": 19,
   "metadata": {
    "execution": {
     "iopub.execute_input": "2022-07-22T15:06:18.879371Z",
     "iopub.status.busy": "2022-07-22T15:06:18.879001Z",
     "iopub.status.idle": "2022-07-22T15:06:18.885768Z",
     "shell.execute_reply": "2022-07-22T15:06:18.884588Z",
     "shell.execute_reply.started": "2022-07-22T15:06:18.879340Z"
    }
   },
   "outputs": [],
   "source": [
    "print(input_img.shape)\n",
    "print(target.shape)"
   ]
  },
  {
   "cell_type": "code",
   "execution_count": 20,
   "metadata": {
    "execution": {
     "iopub.execute_input": "2022-07-22T15:06:20.103539Z",
     "iopub.status.busy": "2022-07-22T15:06:20.103174Z",
     "iopub.status.idle": "2022-07-22T15:06:20.112194Z",
     "shell.execute_reply": "2022-07-22T15:06:20.110960Z",
     "shell.execute_reply.started": "2022-07-22T15:06:20.103508Z"
    }
   },
   "outputs": [],
   "source": [
    "batch_size = 64\n",
    "def train():\n",
    "    losses = []\n",
    "    for i in range(1, int(len(rgb_data)/batch_size) - 1):\n",
    "        out = model(input_img[batch_size*(i-1):i*batch_size, :,:,:])\n",
    "        loss = criterion(out, target[batch_size*(i-1):i*batch_size,:,:,:])\n",
    "        optimizer.zero_grad()\n",
    "        loss.backward()\n",
    "        optimizer.step()\n",
    "        losses.append(loss.item())\n",
    "        \n",
    "    return np.average(losses)\n",
    "        "
   ]
  },
  {
   "cell_type": "code",
   "execution_count": 56,
   "metadata": {
    "execution": {
     "iopub.execute_input": "2022-07-22T15:58:56.491626Z",
     "iopub.status.busy": "2022-07-22T15:58:56.490916Z",
     "iopub.status.idle": "2022-07-22T16:11:01.884248Z",
     "shell.execute_reply": "2022-07-22T16:11:01.877881Z",
     "shell.execute_reply.started": "2022-07-22T15:58:56.491588Z"
    }
   },
   "outputs": [],
   "source": [
    "for i in range(0, 5000):\n",
    "    if i % 10 == 0:\n",
    "        print('Loss in epoch '+ str(i) + ' '+str(train()))"
   ]
  },
  {
   "cell_type": "code",
   "execution_count": 51,
   "metadata": {
    "execution": {
     "iopub.execute_input": "2022-07-22T15:51:16.820479Z",
     "iopub.status.busy": "2022-07-22T15:51:16.819713Z",
     "iopub.status.idle": "2022-07-22T15:51:17.040827Z",
     "shell.execute_reply": "2022-07-22T15:51:17.039838Z",
     "shell.execute_reply.started": "2022-07-22T15:51:16.820441Z"
    }
   },
   "outputs": [],
   "source": [
    "i = 600\n",
    "test_img = (rgb_data[i,:,:,:]*255 ) + 128\n",
    "plt.imshow(test_img.T.astype('int'))"
   ]
  },
  {
   "cell_type": "code",
   "execution_count": 52,
   "metadata": {
    "execution": {
     "iopub.execute_input": "2022-07-22T15:51:20.805389Z",
     "iopub.status.busy": "2022-07-22T15:51:20.804253Z",
     "iopub.status.idle": "2022-07-22T15:51:21.007642Z",
     "shell.execute_reply": "2022-07-22T15:51:21.006747Z",
     "shell.execute_reply.started": "2022-07-22T15:51:20.805336Z"
    }
   },
   "outputs": [],
   "source": [
    "plt.imshow(gray_scale[i,0,:,:], cmap = 'gray')"
   ]
  },
  {
   "cell_type": "code",
   "execution_count": 55,
   "metadata": {
    "execution": {
     "iopub.execute_input": "2022-07-22T15:58:30.439639Z",
     "iopub.status.busy": "2022-07-22T15:58:30.439255Z",
     "iopub.status.idle": "2022-07-22T15:58:30.660442Z",
     "shell.execute_reply": "2022-07-22T15:58:30.659566Z",
     "shell.execute_reply.started": "2022-07-22T15:58:30.439606Z"
    }
   },
   "outputs": [],
   "source": [
    "ot = model(torch.from_numpy(np.reshape(gray_scale[i,0,:,:],(1,1,224,224))).float().to(device))\n",
    "plt.imshow(((ot.cpu().detach().numpy()[0].T)*255 + 128).astype('int'))"
   ]
  }
 ],
 "metadata": {
  "kernelspec": {
   "display_name": "Python 3",
   "language": "python",
   "name": "python3"
  },
  "language_info": {
   "codemirror_mode": {
    "name": "ipython",
    "version": 3
   },
   "file_extension": ".py",
   "mimetype": "text/x-python",
   "name": "python",
   "nbconvert_exporter": "python",
   "pygments_lexer": "ipython3",
   "version": "3.6.9"
  }
 },
 "nbformat": 4,
 "nbformat_minor": 4
}
